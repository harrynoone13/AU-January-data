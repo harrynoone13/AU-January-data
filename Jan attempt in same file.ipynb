{
 "cells": [
  {
   "cell_type": "code",
   "execution_count": 1,
   "id": "collected-glass",
   "metadata": {},
   "outputs": [],
   "source": [
    "import numpy as np\n",
    "import pandas as pd\n",
    "import matplotlib as plt"
   ]
  },
  {
   "cell_type": "code",
   "execution_count": 4,
   "id": "thousand-courtesy",
   "metadata": {},
   "outputs": [],
   "source": [
    "files = ['AU0101.txt', 'AU0102.txt', 'AU0103.txt', 'AU0104.txt', 'AU0105.txt', 'AU0106.txt', 'AU0107.txt', 'AU0108.txt', 'AU0109.txt', 'AU0110.txt']"
   ]
  },
  {
   "cell_type": "code",
   "execution_count": 5,
   "id": "vulnerable-university",
   "metadata": {},
   "outputs": [
    {
     "name": "stdout",
     "output_type": "stream",
     "text": [
      "Empty DataFrame\n",
      "Columns: [hour, sza, jo1d, jno2, jhono, jhno3, jclno2]\n",
      "Index: []\n"
     ]
    }
   ],
   "source": [
    "AU_down_TUV = pd.DataFrame(columns = ['hour', 'sza', 'jo1d', 'jno2', 'jhono', 'jhno3', 'jclno2'])\n",
    "print(AU_down_TUV)"
   ]
  },
  {
   "cell_type": "code",
   "execution_count": 10,
   "id": "plastic-feeding",
   "metadata": {},
   "outputs": [
    {
     "name": "stdout",
     "output_type": "stream",
     "text": [
      "Empty DataFrame\n",
      "Columns: [sza, hour, jo1d, jno2, jhono, jhno3, jclno2, date]\n",
      "Index: []\n",
      "Empty DataFrame\n",
      "Columns: [sza, hour, jo1d, jno2, jhono, jhno3, jclno2, date]\n",
      "Index: []\n",
      "Empty DataFrame\n",
      "Columns: [sza, hour, jo1d, jno2, jhono, jhno3, jclno2, date]\n",
      "Index: []\n",
      "Empty DataFrame\n",
      "Columns: [sza, hour, jo1d, jno2, jhono, jhno3, jclno2, date]\n",
      "Index: []\n",
      "Empty DataFrame\n",
      "Columns: [sza, hour, jo1d, jno2, jhono, jhno3, jclno2, date]\n",
      "Index: []\n",
      "Empty DataFrame\n",
      "Columns: [sza, hour, jo1d, jno2, jhono, jhno3, jclno2, date]\n",
      "Index: []\n",
      "Empty DataFrame\n",
      "Columns: [sza, hour, jo1d, jno2, jhono, jhno3, jclno2, date]\n",
      "Index: []\n",
      "Empty DataFrame\n",
      "Columns: [sza, hour, jo1d, jno2, jhono, jhno3, jclno2, date]\n",
      "Index: []\n",
      "Empty DataFrame\n",
      "Columns: [sza, hour, jo1d, jno2, jhono, jhno3, jclno2, date]\n",
      "Index: []\n",
      "Empty DataFrame\n",
      "Columns: [sza, hour, jo1d, jno2, jhono, jhno3, jclno2, date]\n",
      "Index: []\n"
     ]
    }
   ],
   "source": [
    "for file in files:\n",
    "    if AU_down_TUV.empty:\n",
    "        temp_dataset = pd.read_csv('AU0101.txt', skiprows=145, sep='\\s+', names=['hour', 'jo1d', 'jno2', 'jhono', 'jhno3', 'jclno2'])\n",
    "        date = '01012020'\n",
    "        temp_dataset['date'] = date\n",
    "        AU_down_TUV = pd.merge(AU_down_TUV, temp_dataset)\n",
    "        del temp_dataset\n",
    "        print(AU_down_TUV)"
   ]
  },
  {
   "cell_type": "code",
   "execution_count": null,
   "id": "supreme-clock",
   "metadata": {},
   "outputs": [],
   "source": []
  }
 ],
 "metadata": {
  "kernelspec": {
   "display_name": "Python 3",
   "language": "python",
   "name": "python3"
  },
  "language_info": {
   "codemirror_mode": {
    "name": "ipython",
    "version": 3
   },
   "file_extension": ".py",
   "mimetype": "text/x-python",
   "name": "python",
   "nbconvert_exporter": "python",
   "pygments_lexer": "ipython3",
   "version": "3.8.5"
  }
 },
 "nbformat": 4,
 "nbformat_minor": 5
}
